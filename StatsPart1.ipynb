{
  "nbformat": 4,
  "nbformat_minor": 0,
  "metadata": {
    "colab": {
      "name": "StatsPart1.ipynb",
      "provenance": [],
      "toc_visible": true,
      "authorship_tag": "ABX9TyP9LbvqouCV5bgvgzPA+K/M"
    },
    "kernelspec": {
      "name": "python3",
      "display_name": "Python 3"
    }
  },
  "cells": [
    {
      "cell_type": "code",
      "metadata": {
        "colab": {
          "base_uri": "https://localhost:8080/"
        },
        "id": "Mbwoh4mHz4gj",
        "outputId": "18a7cdc8-868c-4ab1-a876-e98a2f05126f"
      },
      "source": [
        "viewer = \"😎 Physicist\" ## variable assingment\r\n",
        "print(f\"Hello world {viewer}\")"
      ],
      "execution_count": null,
      "outputs": [
        {
          "output_type": "stream",
          "text": [
            "Hello world 😎 Physicist\n"
          ],
          "name": "stdout"
        }
      ]
    },
    {
      "cell_type": "code",
      "metadata": {
        "colab": {
          "base_uri": "https://localhost:8080/"
        },
        "id": "T8k9ewhL0r42",
        "outputId": "9f877115-89db-4fd3-ad16-70718aaa5028"
      },
      "source": [
        "print(f\"Why are you repeating Hello world {viewer}? 😥\")"
      ],
      "execution_count": null,
      "outputs": [
        {
          "output_type": "stream",
          "text": [
            "Why are you repeating Hello world 😎 Physicist? 😥\n"
          ],
          "name": "stdout"
        }
      ]
    },
    {
      "cell_type": "markdown",
      "metadata": {
        "id": "EqFyBMzi1zJf"
      },
      "source": [
        "#"
      ]
    },
    {
      "cell_type": "markdown",
      "metadata": {
        "id": "C7jBJa7-3Ecq"
      },
      "source": [
        "# Let's create multiple sections"
      ]
    },
    {
      "cell_type": "code",
      "metadata": {
        "id": "1UTtJnZC3M9Z"
      },
      "source": [
        ""
      ],
      "execution_count": null,
      "outputs": []
    },
    {
      "cell_type": "markdown",
      "metadata": {
        "id": "uuGbLaoa3O1J"
      },
      "source": [
        "## SubSection"
      ]
    },
    {
      "cell_type": "code",
      "metadata": {
        "id": "llgUOilP3OSO"
      },
      "source": [
        ""
      ],
      "execution_count": null,
      "outputs": []
    },
    {
      "cell_type": "markdown",
      "metadata": {
        "id": "b1wwWzRM3UhY"
      },
      "source": [
        "# Another Section"
      ]
    },
    {
      "cell_type": "code",
      "metadata": {
        "id": "uw5sOLWo3XP3"
      },
      "source": [
        ""
      ],
      "execution_count": null,
      "outputs": []
    },
    {
      "cell_type": "markdown",
      "metadata": {
        "id": "u9FwuToP4dz-"
      },
      "source": [
        "# Real code"
      ]
    },
    {
      "cell_type": "markdown",
      "metadata": {
        "id": "i43FasD44j2O"
      },
      "source": [
        "Importing numpy library;\r\n",
        "[Documentation](https://numpy.org/doc/stable/)"
      ]
    },
    {
      "cell_type": "code",
      "metadata": {
        "id": "_H-Fld1D4gpl"
      },
      "source": [
        "import numpy as np"
      ],
      "execution_count": null,
      "outputs": []
    },
    {
      "cell_type": "markdown",
      "metadata": {
        "id": "PgQNRJ3l4lKm"
      },
      "source": [
        "Using functions from np"
      ]
    },
    {
      "cell_type": "code",
      "metadata": {
        "id": "5jqHhIdm4ivV"
      },
      "source": [
        "normal_dist = np.random.normal(30,5,60)"
      ],
      "execution_count": null,
      "outputs": []
    },
    {
      "cell_type": "code",
      "metadata": {
        "colab": {
          "base_uri": "https://localhost:8080/"
        },
        "id": "cMwccV1H5rKS",
        "outputId": "b7ee51eb-8680-481e-869f-26afba7d30ae"
      },
      "source": [
        "print(normal_dist)"
      ],
      "execution_count": null,
      "outputs": [
        {
          "output_type": "stream",
          "text": [
            "[31.16546254 29.64728731 25.42471179 34.5144235  26.48705218 33.7595702\n",
            " 20.44832294 30.08837645 23.4057895  37.58970966 24.34815018 30.23088965\n",
            " 35.64083773 27.25285174 31.66293226 32.72534744 22.10731979 27.12657596\n",
            " 30.26669209 34.8898896  27.99408623 29.18688361 35.89682848 32.12003075\n",
            " 25.59295797 28.31029409 29.06269275 30.15679255 42.33825837 22.72960863\n",
            " 28.6493082  25.78804893 18.37547861 31.91437537 27.3171197  29.43819775\n",
            " 28.78873631 30.15753447 22.17125777 38.79950195 38.29291585 30.89082386\n",
            " 29.71475867 24.29722371 27.08797016 32.67265204 38.09616228 21.39384065\n",
            " 27.1758282  35.81173885 27.15305261 30.13708778 22.52749282 36.92572874\n",
            " 32.49543494 26.36432388 34.14353105 26.75073667 32.23873463 36.10115728]\n"
          ],
          "name": "stdout"
        }
      ]
    },
    {
      "cell_type": "markdown",
      "metadata": {
        "id": "a5hnH-RT5Zm0"
      },
      "source": [
        "importing matplotlib.pyplot; [Documentation](https://matplotlib.org/3.3.3/api/_as_gen/matplotlib.pyplot.html#:~:text=pyplot%20is%20a%20state%2Dbased,pyplot%20as%20plt%20x%20%3D%20np.)"
      ]
    },
    {
      "cell_type": "code",
      "metadata": {
        "colab": {
          "base_uri": "https://localhost:8080/",
          "height": 265
        },
        "id": "EZsSjsqw5p8S",
        "outputId": "9d1a7e73-c8c1-47c1-9194-1156a2617ecd"
      },
      "source": [
        "import matplotlib.pyplot as plt\r\n",
        "figure = plt.hist(normal_dist)"
      ],
      "execution_count": null,
      "outputs": [
        {
          "output_type": "display_data",
          "data": {
            "image/png": "[encoded data removed]",
            "text/plain": [
              "<Figure size 432x288 with 1 Axes>"
            ]
          },
          "metadata": {
            "tags": [],
            "needs_background": "light"
          }
        }
      ]
    },
    {
      "cell_type": "code",
      "metadata": {
        "id": "4k67E0KAE3lc"
      },
      "source": [
        "normal_dist2 = np.random.normal(34,3,60)"
      ],
      "execution_count": null,
      "outputs": []
    },
    {
      "cell_type": "code",
      "metadata": {
        "colab": {
          "base_uri": "https://localhost:8080/",
          "height": 265
        },
        "id": "lfONmki2ru-T",
        "outputId": "512c5cd0-821e-4112-e617-aa31537ecbd2"
      },
      "source": [
        "fig1 = plt.hist(normal_dist)\r\n",
        "fig2 = plt.hist(normal_dist2)"
      ],
      "execution_count": null,
      "outputs": [
        {
          "output_type": "display_data",
          "data": {
            "image/png": "[encoded data removed]",
            "text/plain": [
              "<Figure size 432x288 with 1 Axes>"
            ]
          },
          "metadata": {
            "tags": [],
            "needs_background": "light"
          }
        }
      ]
    },
    {
      "cell_type": "code",
      "metadata": {
        "colab": {
          "base_uri": "https://localhost:8080/"
        },
        "id": "tHyYBCP-sBZs",
        "outputId": "babc123d-1d05-4b2a-fbb0-3d8e30c0a449"
      },
      "source": [
        "from scipy.stats import ttest_ind\r\n",
        "test = ttest_ind(normal_dist,normal_dist2)\r\n",
        "print(test)"
      ],
      "execution_count": null,
      "outputs": [
        {
          "output_type": "stream",
          "text": [
            "Ttest_indResult(statistic=-5.894703594384114, pvalue=3.644434067140997e-08)\n"
          ],
          "name": "stdout"
        }
      ]
    },
    {
      "cell_type": "code",
      "metadata": {
        "colab": {
          "base_uri": "https://localhost:8080/"
        },
        "id": "Jt9vx99-7X60",
        "outputId": "2a66fcee-61ca-4265-8207-9ce9bf69590b"
      },
      "source": [
        "from scipy.stats import ttest_rel\r\n",
        "test = ttest_rel(normal_dist,normal_dist2)\r\n",
        "print(test)"
      ],
      "execution_count": null,
      "outputs": [
        {
          "output_type": "stream",
          "text": [
            "Ttest_relResult(statistic=-5.678887231597098, pvalue=4.3815718100937786e-07)\n"
          ],
          "name": "stdout"
        }
      ]
    },
    {
      "cell_type": "code",
      "metadata": {
        "colab": {
          "base_uri": "https://localhost:8080/"
        },
        "id": "mv7Lz5wWD078",
        "outputId": "9c8c393a-74b8-41a2-c97c-e5335851a1f9"
      },
      "source": [
        "from scipy.stats import wilcoxon\r\n",
        "test = wilcoxon(normal_dist,normal_dist2)\r\n",
        "print(test)"
      ],
      "execution_count": null,
      "outputs": [
        {
          "output_type": "stream",
          "text": [
            "WilcoxonResult(statistic=281.0, pvalue=3.052484624609796e-06)\n"
          ],
          "name": "stdout"
        }
      ]
    },
    {
      "cell_type": "code",
      "metadata": {
        "colab": {
          "base_uri": "https://localhost:8080/"
        },
        "id": "lSQl37U4FydJ",
        "outputId": "069976af-e06c-4c1b-b623-59974a051455"
      },
      "source": [
        "from scipy.stats import mannwhitneyu\r\n",
        "test = mannwhitneyu(normal_dist,normal_dist2)\r\n",
        "print(test)"
      ],
      "execution_count": null,
      "outputs": [
        {
          "output_type": "stream",
          "text": [
            "MannwhitneyuResult(statistic=804.0, pvalue=8.706817326628981e-08)\n"
          ],
          "name": "stdout"
        }
      ]
    },
    {
      "cell_type": "code",
      "metadata": {
        "id": "vDeNGkc4JPQ_"
      },
      "source": [
        ""
      ],
      "execution_count": null,
      "outputs": []
    }
  ]
}